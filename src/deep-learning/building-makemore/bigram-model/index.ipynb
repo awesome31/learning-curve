{
 "cells": [
  {
   "cell_type": "markdown",
   "id": "59b05faf",
   "metadata": {},
   "source": [
    "# Character Level Language Models\n",
    "\n",
    "We are going to be building Makemore. The idea of Makemore is that we are given a dataset of text and we want to build a language model that can generate text similar to the dataset. A character level language model means that we just predict the next character based on the previous characters. \n",
    "\n",
    "Lets breakdown what a specific word in a dataset is telling us. Lets take example of the word 'isabella'. It gives us the following information:\n",
    "\n",
    "1. The word 'i' is likely to come first.\n",
    "2. The word 's' is likely to come after 'i'.\n",
    "3. The word is likely to end with 'isabella'.\n",
    "\n",
    "And we have multiple such words. So there is a lot of structure here that we can try and model.\n",
    "\n",
    "\n",
    "## Reading the dataset"
   ]
  },
  {
   "cell_type": "code",
   "execution_count": 1,
   "id": "5ab323cc",
   "metadata": {},
   "outputs": [
    {
     "data": {
      "text/plain": [
       "['emma',\n",
       " 'olivia',\n",
       " 'ava',\n",
       " 'isabella',\n",
       " 'sophia',\n",
       " 'charlotte',\n",
       " 'mia',\n",
       " 'amelia',\n",
       " 'harper',\n",
       " 'evelyn']"
      ]
     },
     "execution_count": 1,
     "metadata": {},
     "output_type": "execute_result"
    }
   ],
   "source": [
    "words = open(\"names.txt\", \"r\").read().splitlines()\n",
    "words[:10]"
   ]
  },
  {
   "cell_type": "code",
   "execution_count": 2,
   "id": "6e9cc923",
   "metadata": {},
   "outputs": [
    {
     "name": "stdout",
     "output_type": "stream",
     "text": [
      "32033\n",
      "2\n",
      "15\n"
     ]
    }
   ],
   "source": [
    "print(len(words))\n",
    "print(min(len(w) for w in words))\n",
    "print(max(len(w) for w in words))"
   ]
  },
  {
   "cell_type": "markdown",
   "id": "5c7df263",
   "metadata": {},
   "source": [
    "## Bigram Model\n",
    "\n",
    "A bigram model is a probability distribution over pairs of characters. In Bigram we do not care about ALL the characters that come before only the last character that came before the current character. Its a very simple and weak language model, but a good starting point. These are the steps that we are doing:\n",
    "\n",
    "1. We will be adding two tokens called `<S>` and `<E>` to mark the start and end of a word respectively.\n",
    "2. Then for each pair, we are going to be creating a frequency distribution and then inspect what pairs occur the most."
   ]
  },
  {
   "cell_type": "code",
   "execution_count": 3,
   "id": "4294acee",
   "metadata": {},
   "outputs": [
    {
     "name": "stdout",
     "output_type": "stream",
     "text": [
      "[(('n', '<E>'), 6763), (('a', '<E>'), 6640), (('a', 'n'), 5438), (('<S>', 'a'), 4410), (('e', '<E>'), 3983)]\n"
     ]
    }
   ],
   "source": [
    "biagram_freq = {}\n",
    "\n",
    "for w in words:\n",
    "    chs = ['<S>'] + list(w) + ['<E>']\n",
    "    for i in range(len(chs) - 1):\n",
    "        biagram = (chs[i], chs[i+1])\n",
    "        biagram_freq[biagram] = biagram_freq.get(biagram, 0) + 1\n",
    "\n",
    "# Get the 5 max biagrams. These are the most likely biagrams.\n",
    "print(sorted(biagram_freq.items(), key=lambda x: x[1], reverse=True)[:5])"
   ]
  },
  {
   "cell_type": "markdown",
   "id": "a596cfa3",
   "metadata": {},
   "source": [
    "Instead of storing the counts in a dictionary, a better way to model this is to use a multidimensional array where the first dimension is the first character and the second dimension is the second character and the value represents the count. We will create an array of 28 x 28 dimensions and initialize it to 0. Lets assume we call it N.\n",
    "\n",
    "N[0, 0] => This means the count of the first character being 'a' and the second character being 'a'.\n",
    "N[0, 1] => This means the count of the first character being 'a' and the second character being 'b'.\n",
    "N[0, 26] => This means the count of the first character being 'a' and the second character being '<S>'.\n",
    "\n",
    "\n",
    "This is the mapping would be."
   ]
  },
  {
   "cell_type": "code",
   "execution_count": 4,
   "id": "8ff6ad8b",
   "metadata": {},
   "outputs": [
    {
     "data": {
      "text/plain": [
       "tensor(6640, dtype=torch.int32)"
      ]
     },
     "execution_count": 4,
     "metadata": {},
     "output_type": "execute_result"
    }
   ],
   "source": [
    "import torch\n",
    "\n",
    "# Let us create a way to convert strings into integers.\n",
    "stoi = {ch: i for i, ch in enumerate(sorted(list(set(''.join(words)))))}\n",
    "stoi['<S>'] = 26\n",
    "stoi['<E>'] = 27\n",
    "\n",
    "N = torch.zeros((28, 28), dtype=torch.int32)\n",
    "\n",
    "for w in words:\n",
    "    chs = ['<S>'] + list(w) + ['<E>']\n",
    "    for i in range(len(chs) - 1):\n",
    "        N[stoi[chs[i]], stoi[chs[i+1]]] += 1\n",
    "\n",
    "stoi\n",
    "N[0, 27]"
   ]
  },
  {
   "cell_type": "markdown",
   "id": "7e699a5d",
   "metadata": {},
   "source": [
    "With this current structure, the issue is that we have the row S and column E which will always be 0s. Also instead of using 2 tokens, we can use 1 token to represent start and end and then recreate the dataset better."
   ]
  },
  {
   "cell_type": "code",
   "execution_count": 5,
   "id": "362c915e",
   "metadata": {},
   "outputs": [
    {
     "data": {
      "text/plain": [
       "tensor([   0, 4410, 1306, 1542, 1690, 1531,  417,  669,  874,  591, 2422, 2963,\n",
       "        1572, 2538, 1146,  394,  515,   92, 1639, 2055, 1308,   78,  376,  307,\n",
       "         134,  535,  929], dtype=torch.int32)"
      ]
     },
     "execution_count": 5,
     "metadata": {},
     "output_type": "execute_result"
    }
   ],
   "source": [
    "# Let us create a way to convert strings into integers.\n",
    "stoi = {ch: i + 1 for i, ch in enumerate(sorted(list(set(''.join(words)))))}\n",
    "itos = {i: s for s, i in stoi.items()}\n",
    "stoi['.'] = 0\n",
    "\n",
    "N = torch.zeros((27, 27), dtype=torch.int32)\n",
    "\n",
    "for w in words:\n",
    "    chs = ['.'] + list(w) + ['.']\n",
    "    for i in range(len(chs) - 1):\n",
    "        N[stoi[chs[i]], stoi[chs[i+1]]] += 1\n",
    "\n",
    "stoi\n",
    "N[:, 0] # Letters ending with the character.\n",
    "N[0, :] # Letters starting with the character.\n",
    "\n",
    "#Everything else will be in between."
   ]
  },
  {
   "cell_type": "markdown",
   "id": "c92d23f1",
   "metadata": {},
   "source": [
    "Now that we have the model of frequencies, we can sample from the model to create a word. A model often defines probability distributions over possible outputs. Sampling means drawing an example from that distribution.\n",
    "\n",
    "Sampling from the model means randomly picking a word according to those probabilities.\n",
    "\n",
    "- 60% chance → “cat”\n",
    "- 30% chance → “dog”\n",
    "- 10% chance → “car”\n",
    "\n",
    "Let us take an example of how we sample from any probability distribution in general"
   ]
  },
  {
   "cell_type": "code",
   "execution_count": 6,
   "id": "bbb35836",
   "metadata": {},
   "outputs": [
    {
     "data": {
      "text/plain": [
       "tensor([1, 1, 2, 0, 0, 2, 1, 1, 0, 0, 0, 1, 1, 0, 0, 1, 1, 0, 0, 1])"
      ]
     },
     "execution_count": 6,
     "metadata": {},
     "output_type": "execute_result"
    }
   ],
   "source": [
    "# Example of sampling from a probability distribution\n",
    "g = torch.Generator().manual_seed(2147483647)\n",
    "p = torch.rand(3, generator=g)\n",
    "p = p / p.sum()\n",
    "\n",
    "# We use this method from pytorch to sample from the probability distribution.\n",
    "torch.multinomial(p, num_samples=20, replacement=True, generator=g)"
   ]
  },
  {
   "cell_type": "markdown",
   "id": "7be7863e",
   "metadata": {},
   "source": [
    "Coming back to our example above, we will use the tensor that we have created and create a word by starting from . and then sampling from our distribution to get the next word and so on and so forth. If you compare the output of uniform true, vs our bigram model, you can clearly see that the model has learned something. Although the bigram model is terrible.\n",
    "\n",
    "Also for each iteration, instead of calculating the distribution again and again which is inefficient, we can create a probability matrix P. We should use and get comfortable with broadcasting. The broadcasting rules state that:\n",
    "\n",
    "1. Each tensor has at least one dimension.\n",
    "2. When iterating over the dimension sizes, starting at the trailing dimension, the dimension sizes must either be equal, one of them is 1, or one of them does not exist."
   ]
  },
  {
   "cell_type": "code",
   "execution_count": 7,
   "id": "6e759172",
   "metadata": {},
   "outputs": [
    {
     "name": "stdout",
     "output_type": "stream",
     "text": [
      "torch.Size([27, 27]) torch.Size([27, 1])\n"
     ]
    }
   ],
   "source": [
    "P = N.float()\n",
    "row_sums = P.sum(dim=1, keepdim=True)\n",
    "\n",
    "print(P.shape, row_sums.shape)\n",
    "P /= row_sums"
   ]
  },
  {
   "cell_type": "code",
   "execution_count": 8,
   "id": "d4c847ad",
   "metadata": {},
   "outputs": [
    {
     "name": "stdout",
     "output_type": "stream",
     "text": [
      "mati\n",
      "nnnneler\n",
      "w\n",
      "ghannasyso\n",
      "alorgocalin\n",
      "zume\n",
      "buio\n",
      "khr\n",
      "aly\n",
      "gejerem\n",
      "---\n",
      "vx\n",
      "ucysgfsterduncbcq\n",
      "kcfyvvijlarcmwym\n",
      "ghoarxhrcmeruwinoddomwzqloy\n",
      "umpaedjkvhhqutljg\n",
      "lzimlzpevcodljhgbc\n",
      "jxzqqpfndgjcaabl\n",
      "xutf\n",
      "i\n",
      "dpdvhayxrdrjoeqylxuztomrzwuqdcsnzohomwqwfqrwqqomungwpuikbhazfcpzdtotjpnmbcnlp\n"
     ]
    }
   ],
   "source": [
    "g = torch.Generator().manual_seed(21474836337)\n",
    "\n",
    "def generate_word(uniform=False):\n",
    "    itos = {i: s for s, i in stoi.items()}\n",
    "\n",
    "    idx = 0\n",
    "    new_word = ''\n",
    "\n",
    "    while True:\n",
    "        p = P[idx]\n",
    "\n",
    "        if uniform:\n",
    "            p = torch.ones(27) / 27\n",
    "\n",
    "        idx = torch.multinomial(p, num_samples=1, replacement=True, generator=g).item()\n",
    "   \n",
    "        if idx == 0:\n",
    "            break\n",
    "        else:\n",
    "            new_word += itos[idx]\n",
    "    \n",
    "    return new_word\n",
    "\n",
    "for i in range(10):\n",
    "    print(generate_word())\n",
    "\n",
    "print('---')\n",
    "for i in range(10):\n",
    "    print(generate_word(uniform=True))"
   ]
  },
  {
   "cell_type": "markdown",
   "id": "ac3f9ee0",
   "metadata": {},
   "source": [
    "Just to understand why keepdim is important, lets look at an example:\n",
    "\n",
    "A = torch.tensor([[1, 2, 3], [4, 5, 6], [7, 8, 9]])\n",
    "row_sums = A.sum(dim=1)\n",
    "\n",
    "If we do A / row_sums, it will divide: [1, 4, 7] by [6, 6, 6], [2, 5, 8] by [15, 15, 15], [3, 6, 9] by [24, 24, 24] which is not what we want. We want rows to be divided by their respective sum and not the colums by the sum of the rows. To do that, we need to use keepdim."
   ]
  },
  {
   "cell_type": "code",
   "execution_count": 9,
   "id": "1779c728",
   "metadata": {},
   "outputs": [
    {
     "name": "stdout",
     "output_type": "stream",
     "text": [
      "tensor([ 6, 15, 24])\n"
     ]
    },
    {
     "data": {
      "text/plain": [
       "tensor([[0.1667, 0.1333, 0.1250],\n",
       "        [0.6667, 0.3333, 0.2500],\n",
       "        [1.1667, 0.5333, 0.3750]])"
      ]
     },
     "execution_count": 9,
     "metadata": {},
     "output_type": "execute_result"
    }
   ],
   "source": [
    "A = torch.tensor([[1, 2, 3], [4, 5, 6], [7, 8, 9]])\n",
    "row_sums = A.sum(dim=1)\n",
    "\n",
    "print(row_sums)\n",
    "A / row_sums"
   ]
  },
  {
   "cell_type": "markdown",
   "id": "5cdc3b29",
   "metadata": {},
   "source": [
    "### Evaluating the Bigram Model\n",
    "\n",
    "Now that we have created a model, lets try and think through how good our model is. We want to first get the loss function. Loss function measure how good our model is based on the training data and then iteratively tries to minimize the loss. When dealing with probabilities, we usually use the maximum likelihood estimation.\n",
    "\n",
    "Maximum likelihood estimation says that the parameters of the model that maximize the likelihood of the training data are the best parameters. In other words, we want to find the parameters that make the training data most likely. Our loss function will be the negative log likelihood. In Bigrams case, we can take the words, and take the probability of our model spitting out those words.\n",
    "\n",
    "In the below code, we can see the probability that our model assigned for each biagram. The max likelihood estimation says that we need to take a product of all these probabilities to get the likelihood of the word. We use negative log likelihood because if we take a product of probabilities, it can become very small and we can run into underflow issues. Log has a nice property which states that log of a product is equal to sum of logs. "
   ]
  },
  {
   "cell_type": "code",
   "execution_count": 10,
   "id": "7373630d",
   "metadata": {},
   "outputs": [
    {
     "name": "stdout",
     "output_type": "stream",
     "text": [
      "('.', 'e'): 0.0478\n",
      "('e', 'm'): 0.0377\n",
      "('m', 'm'): 0.0253\n",
      "('m', 'a'): 0.3899\n",
      "('a', '.'): 0.1960\n",
      "('.', 'o'): 0.0123\n",
      "('o', 'l'): 0.0780\n",
      "('l', 'i'): 0.1777\n",
      "('i', 'v'): 0.0152\n",
      "('v', 'i'): 0.3541\n",
      "('i', 'a'): 0.1381\n",
      "('a', '.'): 0.1960\n"
     ]
    }
   ],
   "source": [
    "for w in words[:2]:\n",
    "    chs = ['.'] + list(w) + ['.']\n",
    "    for i in range(len(chs) - 1):\n",
    "        bigram = (chs[i], chs[i + 1])\n",
    "        print(f'{chs[i], chs[i + 1]}: {P[stoi[chs[i]], stoi[chs[i + 1]]]:.4f}')"
   ]
  },
  {
   "cell_type": "markdown",
   "id": "515cc941",
   "metadata": {},
   "source": [
    "Let us understand log likelihood with a small example.\n",
    "\n",
    "1. As we can see below, the lower the probability, the lower the log likelihood.\n",
    "2. The final log likelihood is the sum of log likelihoods of all the events.\n",
    "3. If all were 1, the log likelihood would be 0.\n",
    "4. In machine learning, we want to create a loss function, and then minimize our model's loss. Therefore instead of taking the log likelihood, we take the negative log likelihood.\n",
    "5. Now our statement becomes to create a loss value that is as close to 0 as possible. \n",
    "6. Now the job of the model is to minimize the loss function."
   ]
  },
  {
   "cell_type": "code",
   "execution_count": 11,
   "id": "75e3f563",
   "metadata": {},
   "outputs": [
    {
     "name": "stdout",
     "output_type": "stream",
     "text": [
      "0.1 tensor(-2.3026)\n",
      "0.2 tensor(-1.6094)\n",
      "0.3 tensor(-1.2040)\n",
      "0.4 tensor(-0.9163)\n",
      "tensor(6.0323)\n"
     ]
    }
   ],
   "source": [
    "ps = [0.1, 0.2, 0.3, 0.4]\n",
    "\n",
    "log_likelihood = 0.0\n",
    "for i in ps:\n",
    "    print(i, torch.log(torch.tensor(i)))\n",
    "    log_likelihood += torch.log(torch.tensor(i))\n",
    "\n",
    "print(-log_likelihood)"
   ]
  },
  {
   "cell_type": "markdown",
   "id": "3a3203b3",
   "metadata": {},
   "source": [
    "In case of our Bigram model, the model's parameters is the probability matrix P. And we need to learn the parameters of the model, i.e. the probability matrix P in a way that the loss is as small as possible. We usually try to minimize the average negative log likelihood."
   ]
  },
  {
   "cell_type": "code",
   "execution_count": 12,
   "id": "77bb0694",
   "metadata": {},
   "outputs": [
    {
     "name": "stdout",
     "output_type": "stream",
     "text": [
      "tensor(2.4541)\n"
     ]
    }
   ],
   "source": [
    "def loss_function(P, words):\n",
    "    log_likelihood = 0.0\n",
    "    n = 0\n",
    "\n",
    "    for w in words:\n",
    "        chs = ['.'] + list(w) + ['.']\n",
    "        for i in range(len(chs) - 1):\n",
    "            log_likelihood += torch.log(P[stoi[chs[i]], stoi[chs[i + 1]]])\n",
    "            n += 1\n",
    "\n",
    "    return -log_likelihood/n\n",
    "\n",
    "print(loss_function(P, words))"
   ]
  },
  {
   "cell_type": "markdown",
   "id": "6d8f7279",
   "metadata": {},
   "source": [
    "If we have a biagram whose Probability in the P matrix is 0, then our loss function becomes infinite. This is not desirable and do fix this we can do **model smoothing**, which is adding a small constant to all the probabilities in the P matrix."
   ]
  },
  {
   "cell_type": "code",
   "execution_count": 13,
   "id": "92fcd1b7",
   "metadata": {},
   "outputs": [
    {
     "name": "stdout",
     "output_type": "stream",
     "text": [
      "tensor(inf)\n"
     ]
    },
    {
     "data": {
      "text/plain": [
       "tensor(3.2875)"
      ]
     },
     "execution_count": 13,
     "metadata": {},
     "output_type": "execute_result"
    }
   ],
   "source": [
    "print(loss_function(P, [\"rohitjq\"]))\n",
    "\n",
    "P = (P + 1).float()\n",
    "P = P / P.sum(1, keepdim=True)\n",
    "\n",
    "loss_function(P, [\"rohitjq\"])\n"
   ]
  },
  {
   "cell_type": "markdown",
   "id": "b897b775",
   "metadata": {},
   "source": [
    "### Neural Net Approach for Bigram Model\n",
    "\n",
    "Till now we have been using a lookup table to store the probability of each bigram. Instead of that we can create a neural network to learn the probability of each bigram. Let us see how we can do it. \n",
    "\n",
    "1. First we will create our training set, which is the first character of each biagram and y is the second character of each biagram.\n",
    "2. Instead of using the stoi integer as the xs and ys, its better to one hot encode the xs and ys because neural networks usually expect continuous inputs/outputs or one hot encoded inputs/outputs.\n",
    "3. Next we will neurons. In NN, a neuron takes a set of weights and examples and outputs a single number.  We will havve 27 neurons.\n",
    "4. Now that we have 27 neurons, we want each neuron's otuput for each example to be probability of the second character of the bigram given the first character of the bigram. To do this we will use softmax activation function. logits are esentially log-counts.\n",
    "5. Now we can calculate the loss of the inputs. Since all the operations we have done for a neuron are differentiable, we can calculate the gradient of the loss with respect to the weights of the neurons. We can then use gradient descent to update the weights of the neurons. "
   ]
  },
  {
   "cell_type": "markdown",
   "id": "3dad2b70",
   "metadata": {},
   "source": [
    "What the above output tells you is that for each input, we are getting a log likelihood of how likely the model thinks the next character is. Now we want to optimise the weights of the neurons to make the log likelihood as high as possible. We can do this by using gradient descent. "
   ]
  },
  {
   "cell_type": "code",
   "execution_count": 14,
   "id": "f5d38fa0",
   "metadata": {},
   "outputs": [
    {
     "name": "stdout",
     "output_type": "stream",
     "text": [
      "number of examples:  228146\n"
     ]
    }
   ],
   "source": [
    "import torch.nn.functional as F\n",
    "\n",
    "# create the dataset\n",
    "xs, ys = [], []\n",
    "for w in words:\n",
    "  chs = ['.'] + list(w) + ['.']\n",
    "  for ch1, ch2 in zip(chs, chs[1:]):\n",
    "    ix1 = stoi[ch1]\n",
    "    ix2 = stoi[ch2]\n",
    "    xs.append(ix1)\n",
    "    ys.append(ix2)\n",
    "xs = torch.tensor(xs)\n",
    "ys = torch.tensor(ys)\n",
    "num = xs.nelement()\n",
    "print('number of examples: ', num)\n",
    "\n",
    "# initialize the 'network'\n",
    "g = torch.Generator().manual_seed(2147483647)\n",
    "W = torch.randn((27, 27), generator=g, requires_grad=True)"
   ]
  },
  {
   "cell_type": "code",
   "execution_count": 15,
   "id": "9b1f635c",
   "metadata": {},
   "outputs": [],
   "source": [
    "# gradient descent\n",
    "for k in range(100):\n",
    "  \n",
    "  # forward pass\n",
    "  xenc = F.one_hot(xs, num_classes=27).float() # input to the network: one-hot encoding\n",
    "  logits = xenc @ W # predict log-counts\n",
    "  counts = logits.exp() # counts, equivalent to N\n",
    "  probs = counts / counts.sum(1, keepdims=True) # probabilities for next character\n",
    "  loss = -probs[torch.arange(num), ys].log().mean() + 0.01*(W**2).mean() # Regularization term\n",
    "  \n",
    "  # backward pass\n",
    "  W.grad = None # set to zero the gradient\n",
    "  loss.backward()\n",
    "  \n",
    "  # update\n",
    "  W.data += -50 * W.grad"
   ]
  },
  {
   "cell_type": "code",
   "execution_count": 16,
   "id": "694ea271",
   "metadata": {},
   "outputs": [
    {
     "name": "stdout",
     "output_type": "stream",
     "text": [
      "cexze.\n",
      "momasurailezityha.\n",
      "konimittain.\n",
      "llayn.\n",
      "ka.\n"
     ]
    }
   ],
   "source": [
    "# finally, sample from the 'neural net' model\n",
    "itos = {i: s for s, i in stoi.items()}\n",
    "g = torch.Generator().manual_seed(2147483647)\n",
    "\n",
    "for i in range(5):\n",
    "  \n",
    "  out = []\n",
    "  ix = 0\n",
    "  while True:\n",
    "    \n",
    "    # ----------\n",
    "    # BEFORE:\n",
    "    #p = P[ix]\n",
    "    # ----------\n",
    "    # NOW:\n",
    "    xenc = F.one_hot(torch.tensor([ix]), num_classes=27).float()\n",
    "    logits = xenc @ W # predict log-counts\n",
    "    counts = logits.exp() # counts, equivalent to N\n",
    "    p = counts / counts.sum(1, keepdims=True) # probabilities for next character\n",
    "    # ----------\n",
    "    \n",
    "    ix = torch.multinomial(p, num_samples=1, replacement=True, generator=g).item()\n",
    "    out.append(itos[ix])\n",
    "    if ix == 0:\n",
    "      break\n",
    "  print(''.join(out))"
   ]
  },
  {
   "cell_type": "code",
   "execution_count": null,
   "id": "ae9a022a",
   "metadata": {},
   "outputs": [],
   "source": []
  }
 ],
 "metadata": {
  "kernelspec": {
   "display_name": "deep-learning",
   "language": "python",
   "name": "python3"
  },
  "language_info": {
   "codemirror_mode": {
    "name": "ipython",
    "version": 3
   },
   "file_extension": ".py",
   "mimetype": "text/x-python",
   "name": "python",
   "nbconvert_exporter": "python",
   "pygments_lexer": "ipython3",
   "version": "3.9.23"
  }
 },
 "nbformat": 4,
 "nbformat_minor": 5
}
