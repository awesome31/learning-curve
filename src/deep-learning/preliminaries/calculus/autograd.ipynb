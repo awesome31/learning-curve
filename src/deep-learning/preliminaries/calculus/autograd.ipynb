{
 "cells": [
  {
   "cell_type": "markdown",
   "id": "bb2d83d4",
   "metadata": {},
   "source": [
    "# Autograd\n",
    "\n",
    "Here we will discuss Autograd and how it works using pytorch. A lot of algorithms that we work on make use on automataic finding derivaitves. Autograd find the derivatives for you. Lets see how it works."
   ]
  },
  {
   "cell_type": "code",
   "execution_count": 1,
   "id": "797e52a0",
   "metadata": {},
   "outputs": [],
   "source": [
    "import torch\n",
    "import numpy as np\n",
    "from torch import tensor\n",
    "from numpy import array"
   ]
  },
  {
   "cell_type": "code",
   "execution_count": 2,
   "id": "4339a85b",
   "metadata": {},
   "outputs": [
    {
     "data": {
      "text/plain": [
       "tensor(2.)"
      ]
     },
     "execution_count": 2,
     "metadata": {},
     "output_type": "execute_result"
    }
   ],
   "source": [
    "# If both the input and the output are scalars, then the gradient is a scalar.\n",
    "x = tensor(1.0, requires_grad=True)\n",
    "y = x ** 2\n",
    "y.backward()\n",
    "x.grad"
   ]
  },
  {
   "cell_type": "code",
   "execution_count": 3,
   "id": "8ca0a3c3",
   "metadata": {},
   "outputs": [
    {
     "data": {
      "text/plain": [
       "tensor(200.)"
      ]
     },
     "execution_count": 3,
     "metadata": {},
     "output_type": "execute_result"
    }
   ],
   "source": [
    "# y.backward takes an argument called the gradient, which is used to compute vector Jacbian product and return the back a vector.\n",
    "new_x = tensor(1.0, requires_grad=True)\n",
    "y = new_x ** 2\n",
    "y.backward(tensor(100.))\n",
    "new_x.grad"
   ]
  },
  {
   "cell_type": "code",
   "execution_count": 4,
   "id": "2d322b98",
   "metadata": {},
   "outputs": [
    {
     "data": {
      "text/plain": [
       "tensor([1., 1.])"
      ]
     },
     "execution_count": 4,
     "metadata": {},
     "output_type": "execute_result"
    }
   ],
   "source": [
    "# If input is a vector and the output is a scalar.\n",
    "vector_x = tensor([1.0, 2.0], requires_grad=True)\n",
    "y = vector_x.sum()\n",
    "y.backward()\n",
    "vector_x.grad"
   ]
  },
  {
   "cell_type": "code",
   "execution_count": 5,
   "id": "d86676e7",
   "metadata": {},
   "outputs": [
    {
     "data": {
      "text/plain": [
       "tensor([100., 100.])"
      ]
     },
     "execution_count": 5,
     "metadata": {},
     "output_type": "execute_result"
    }
   ],
   "source": [
    "# If input is a vector and output is scalar but we pass a gradient value\n",
    "vector_x_back = tensor([1.0, 2.0], requires_grad=True)\n",
    "y = vector_x_back.sum()\n",
    "y.backward(tensor(100))\n",
    "vector_x_back.grad"
   ]
  },
  {
   "cell_type": "code",
   "execution_count": 6,
   "id": "703cfbe2",
   "metadata": {},
   "outputs": [
    {
     "data": {
      "text/plain": [
       "tensor([ 6., 12.])"
      ]
     },
     "execution_count": 6,
     "metadata": {},
     "output_type": "execute_result"
    }
   ],
   "source": [
    "vector_output_x = torch.tensor([1.0, 2.0], requires_grad=True)\n",
    "y = 3 * (vector_output_x ** 2)\n",
    "y.backward(tensor([1.0, 1.0]))\n",
    "vector_output_x.grad"
   ]
  },
  {
   "cell_type": "code",
   "execution_count": 7,
   "id": "92357260",
   "metadata": {},
   "outputs": [
    {
     "name": "stdout",
     "output_type": "stream",
     "text": [
      "x: tensor([1., 2.], requires_grad=True)\n",
      "y: tensor([ 3., 17., 20.], grad_fn=<CopySlices>)\n",
      "x.grad: tensor([  26., 1240.])\n"
     ]
    }
   ],
   "source": [
    "x = tensor([1., 2.], requires_grad=True)\n",
    "print('x:', x)\n",
    "y = torch.empty(3)\n",
    "y[0] = 3*x[0]**2\n",
    "y[1] = x[0]**2 + 2*x[1]**3\n",
    "y[2] = 10*x[1]\n",
    "print('y:', y)\n",
    "gradient_value = [1., 10., 100.,]\n",
    "y.backward(tensor(gradient_value)) \n",
    "print('x.grad:', x.grad)"
   ]
  },
  {
   "cell_type": "code",
   "execution_count": 26,
   "id": "4c7f8f65",
   "metadata": {},
   "outputs": [
    {
     "data": {
      "text/plain": [
       "tensor([4.])"
      ]
     },
     "execution_count": 26,
     "metadata": {},
     "output_type": "execute_result"
    }
   ],
   "source": [
    "# Now lets see a function which is of two variables\n",
    "\n",
    "new_x = torch.tensor([1., 2.], requires_grad=True)\n",
    "b = torch.tensor([1.], requires_grad=True)\n",
    "\n",
    "new_y = (new_x * 2) + (b ** 2)\n",
    "new_y.backward(torch.tensor([1., 1.]))\n",
    "new_x.grad\n",
    "b.grad"
   ]
  },
  {
   "cell_type": "code",
   "execution_count": null,
   "id": "b6590474",
   "metadata": {},
   "outputs": [],
   "source": []
  }
 ],
 "metadata": {
  "kernelspec": {
   "display_name": "deep-learning",
   "language": "python",
   "name": "python3"
  },
  "language_info": {
   "codemirror_mode": {
    "name": "ipython",
    "version": 3
   },
   "file_extension": ".py",
   "mimetype": "text/x-python",
   "name": "python",
   "nbconvert_exporter": "python",
   "pygments_lexer": "ipython3",
   "version": "3.9.23"
  }
 },
 "nbformat": 4,
 "nbformat_minor": 5
}
